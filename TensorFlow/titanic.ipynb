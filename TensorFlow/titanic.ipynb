{
  "nbformat": 4,
  "nbformat_minor": 0,
  "metadata": {
    "colab": {
      "name": "titanic.ipynb",
      "provenance": [],
      "collapsed_sections": [],
      "include_colab_link": true
    },
    "kernelspec": {
      "name": "python3",
      "display_name": "Python 3"
    }
  },
  "cells": [
    {
      "cell_type": "markdown",
      "metadata": {
        "id": "view-in-github",
        "colab_type": "text"
      },
      "source": [
        "<a href=\"https://colab.research.google.com/github/les8182377/Machinelearning/blob/master/TensorFlow/titanic.ipynb\" target=\"_parent\"><img src=\"https://colab.research.google.com/assets/colab-badge.svg\" alt=\"Open In Colab\"/></a>"
      ]
    },
    {
      "cell_type": "code",
      "metadata": {
        "id": "jA3W6Zy3ERFR",
        "colab_type": "code",
        "colab": {}
      },
      "source": [
        "import matplotlib.pyplot as plt\n",
        "import numpy as np\n",
        "def plot_image(image):\n",
        "    fig = plt.gcf()\n",
        "    fig.set_size_inches(2, 2)\n",
        "    plt.imshow(image, cmap='binary')\n",
        "    plt.show()\n",
        "\n",
        "def plot_images_labels_prediction(images, labels, prediction, idx, num=10):\n",
        "    fig = plt.gcf()\n",
        "    fig.set_size_inches(12, 14)\n",
        "    if num>25: num=25\n",
        "    for i in range(0, num):\n",
        "        ax = plt.subplot(5, 5, 1+i)\n",
        "        ax.imshow(images[idx], cmap='binary')\n",
        "        title = 'label=' + str(labels[idx])\n",
        "        if len(prediction)>0:\n",
        "            title+= ',predict=' + str(prediction[idx])\n",
        "\n",
        "        ax.set_title(title,fontsize=10)\n",
        "        ax.set_xticks([])#hide the ticks\n",
        "        ax.set_yticks([])\n",
        "        idx+=1\n",
        "    plt.show()\n",
        "\n",
        "def show_train_history(train_history, train, validation):\n",
        "    plt.plot(train_history.history[train])\n",
        "    plt.plot(train_history.history[validation])\n",
        "    plt.title('Train History')\n",
        "    plt.ylabel(train)\n",
        "    plt.xlabel('Epoch')\n",
        "    plt.legend(['train', 'validation'], loc='upper left')\n",
        "    plt.show()\n",
        "\n",
        "def show_Predicted_Probability(y, prediction,X_img_test, Predicted_Probability, i):\n",
        "    label_dict = {0: 'airplane', 1: 'automobile', 2: 'bird', 3: 'cat', 4: 'deer', 5: 'dog', 6: 'frog', 7: 'horse', 8: 'ship', 9: 'truck'}\n",
        "    plt.figure(figsize=(2,2))\n",
        "    plt.imshow(np.reshape(X_img_test[i], (32, 32, 3)))\n",
        "    plt.show()\n",
        "    for j in range(10):\n",
        "        print(label_dict[j] +\n",
        "              'Probability:%1.9f'%(Predicted_Probability[i][j]))\n",
        "\n"
      ],
      "execution_count": 14,
      "outputs": []
    },
    {
      "cell_type": "code",
      "metadata": {
        "id": "eElmcqdvpkvl",
        "colab_type": "code",
        "colab": {
          "base_uri": "https://localhost:8080/",
          "height": 1000
        },
        "outputId": "2af9150f-fd35-4ac8-b669-2d2a938d2f01"
      },
      "source": [
        "import warnings\n",
        "warnings.simplefilter(action='ignore', category=FutureWarning)\n",
        "import numpy as np\n",
        "import pandas as pd\n",
        "from sklearn import preprocessing\n",
        "np.random.seed(10)\n",
        "\n",
        "def PreprocessData(raw_df):\n",
        "    df = raw_df.drop(['name'], axis=1)\n",
        "    age_mean = df['age'].mean()\n",
        "    df['age'] = df['age'].fillna(age_mean)\n",
        "    fare_mean = df['fare'].mean()\n",
        "    df['fare'] = df['fare'].fillna(fare_mean)\n",
        "    df['sex'] = df['sex'].map({'female':0, 'male':1}).astype(int)\n",
        "    X_onehot_df = pd.get_dummies(data=df, columns=['embarked'])\n",
        "    \n",
        "    ndarray = X_onehot_df.values\n",
        "    Features = ndarray[:,1:]\n",
        "    Label = ndarray[:,0]\n",
        "    \n",
        "    minmax_scale = preprocessing.MinMaxScaler(feature_range=(0,1))\n",
        "    scaledFeatures = minmax_scale.fit_transform(Features)\n",
        "    return scaledFeatures, Label\n",
        "\n",
        "all_df = pd.read_excel('drive/My Drive/Colab Notebooks/data/titanic3.xls')\n",
        "\n",
        "cols = ['survived', 'name', 'pclass', 'sex', 'age', 'sibsp', 'parch', 'fare', 'embarked']\n",
        "all_df = all_df[cols]\n",
        "\n",
        "msk = np.random.rand(len(all_df)) < 0.8\n",
        "train_df = all_df[msk]\n",
        "test_df = all_df[~msk]\n",
        "\n",
        "print('total:', len(all_df),\n",
        "      'train:', len(train_df),\n",
        "      'test:', len(test_df))\n",
        "\n",
        "train_Features, train_Label = PreprocessData(train_df)\n",
        "test_Features, test_Label = PreprocessData(test_df)\n",
        "\n",
        "from keras.models import Sequential\n",
        "from keras.layers import Dense, Dropout\n",
        "\n",
        "model = Sequential()\n",
        "\n",
        "model.add(Dense(units=40, input_dim=9,\n",
        "               kernel_initializer='uniform',\n",
        "               activation='relu'))\n",
        "\n",
        "model.add(Dense(units=30,\n",
        "               kernel_initializer='uniform',\n",
        "               activation='relu'))\n",
        "\n",
        "model.add(Dense(units=1,\n",
        "               kernel_initializer='uniform',\n",
        "               activation='sigmoid'))\n",
        "\n",
        "model.compile(loss='binary_crossentropy',\n",
        "             optimizer='adam', metrics=['accuracy'])\n",
        "\n",
        "print(train_Features.dtype)\n",
        "print((train_Label.dtype))\n",
        "print(train_Features.shape)\n",
        "print(train_Label.shape)\n",
        "\n",
        "train_history = model.fit(x=train_Features,\n",
        "                          y=train_Label,\n",
        "                          validation_split=0.1,\n",
        "                          epochs=30,\n",
        "                          batch_size=30,verbose=2)\n"
      ],
      "execution_count": 15,
      "outputs": [
        {
          "output_type": "stream",
          "text": [
            "total: 1309 train: 1034 test: 275\n",
            "float64\n",
            "float64\n",
            "(1034, 9)\n",
            "(1034,)\n",
            "Epoch 1/30\n",
            "31/31 - 0s - loss: 0.6897 - accuracy: 0.5817 - val_loss: 0.6751 - val_accuracy: 0.7885\n",
            "Epoch 2/30\n",
            "31/31 - 0s - loss: 0.6694 - accuracy: 0.6484 - val_loss: 0.6111 - val_accuracy: 0.8173\n",
            "Epoch 3/30\n",
            "31/31 - 0s - loss: 0.6055 - accuracy: 0.7215 - val_loss: 0.5100 - val_accuracy: 0.8077\n",
            "Epoch 4/30\n",
            "31/31 - 0s - loss: 0.5291 - accuracy: 0.7613 - val_loss: 0.4686 - val_accuracy: 0.7885\n",
            "Epoch 5/30\n",
            "31/31 - 0s - loss: 0.4904 - accuracy: 0.7667 - val_loss: 0.4395 - val_accuracy: 0.7596\n",
            "Epoch 6/30\n",
            "31/31 - 0s - loss: 0.4830 - accuracy: 0.7624 - val_loss: 0.4448 - val_accuracy: 0.7885\n",
            "Epoch 7/30\n",
            "31/31 - 0s - loss: 0.4789 - accuracy: 0.7591 - val_loss: 0.4549 - val_accuracy: 0.7885\n",
            "Epoch 8/30\n",
            "31/31 - 0s - loss: 0.4727 - accuracy: 0.7570 - val_loss: 0.4289 - val_accuracy: 0.7885\n",
            "Epoch 9/30\n",
            "31/31 - 0s - loss: 0.4728 - accuracy: 0.7785 - val_loss: 0.4422 - val_accuracy: 0.7981\n",
            "Epoch 10/30\n",
            "31/31 - 0s - loss: 0.4709 - accuracy: 0.7677 - val_loss: 0.4288 - val_accuracy: 0.8269\n",
            "Epoch 11/30\n",
            "31/31 - 0s - loss: 0.4662 - accuracy: 0.7688 - val_loss: 0.4226 - val_accuracy: 0.7885\n",
            "Epoch 12/30\n",
            "31/31 - 0s - loss: 0.4648 - accuracy: 0.7774 - val_loss: 0.4231 - val_accuracy: 0.8269\n",
            "Epoch 13/30\n",
            "31/31 - 0s - loss: 0.4633 - accuracy: 0.7860 - val_loss: 0.4277 - val_accuracy: 0.8173\n",
            "Epoch 14/30\n",
            "31/31 - 0s - loss: 0.4616 - accuracy: 0.7817 - val_loss: 0.4196 - val_accuracy: 0.8173\n",
            "Epoch 15/30\n",
            "31/31 - 0s - loss: 0.4597 - accuracy: 0.7882 - val_loss: 0.4211 - val_accuracy: 0.8365\n",
            "Epoch 16/30\n",
            "31/31 - 0s - loss: 0.4624 - accuracy: 0.7806 - val_loss: 0.4229 - val_accuracy: 0.8077\n",
            "Epoch 17/30\n",
            "31/31 - 0s - loss: 0.4615 - accuracy: 0.7731 - val_loss: 0.4226 - val_accuracy: 0.8365\n",
            "Epoch 18/30\n",
            "31/31 - 0s - loss: 0.4593 - accuracy: 0.7806 - val_loss: 0.4200 - val_accuracy: 0.8365\n",
            "Epoch 19/30\n",
            "31/31 - 0s - loss: 0.4584 - accuracy: 0.7903 - val_loss: 0.4218 - val_accuracy: 0.8269\n",
            "Epoch 20/30\n",
            "31/31 - 0s - loss: 0.4564 - accuracy: 0.7871 - val_loss: 0.4205 - val_accuracy: 0.7981\n",
            "Epoch 21/30\n",
            "31/31 - 0s - loss: 0.4546 - accuracy: 0.7882 - val_loss: 0.4196 - val_accuracy: 0.8269\n",
            "Epoch 22/30\n",
            "31/31 - 0s - loss: 0.4539 - accuracy: 0.7892 - val_loss: 0.4210 - val_accuracy: 0.8077\n",
            "Epoch 23/30\n",
            "31/31 - 0s - loss: 0.4543 - accuracy: 0.7860 - val_loss: 0.4269 - val_accuracy: 0.7981\n",
            "Epoch 24/30\n",
            "31/31 - 0s - loss: 0.4571 - accuracy: 0.7914 - val_loss: 0.4212 - val_accuracy: 0.8269\n",
            "Epoch 25/30\n",
            "31/31 - 0s - loss: 0.4566 - accuracy: 0.7860 - val_loss: 0.4206 - val_accuracy: 0.8269\n",
            "Epoch 26/30\n",
            "31/31 - 0s - loss: 0.4517 - accuracy: 0.7968 - val_loss: 0.4199 - val_accuracy: 0.8173\n",
            "Epoch 27/30\n",
            "31/31 - 0s - loss: 0.4511 - accuracy: 0.7892 - val_loss: 0.4215 - val_accuracy: 0.8269\n",
            "Epoch 28/30\n",
            "31/31 - 0s - loss: 0.4525 - accuracy: 0.7957 - val_loss: 0.4218 - val_accuracy: 0.8173\n",
            "Epoch 29/30\n",
            "31/31 - 0s - loss: 0.4562 - accuracy: 0.7914 - val_loss: 0.4310 - val_accuracy: 0.7885\n",
            "Epoch 30/30\n",
            "31/31 - 0s - loss: 0.4513 - accuracy: 0.7989 - val_loss: 0.4221 - val_accuracy: 0.8173\n"
          ],
          "name": "stdout"
        }
      ]
    },
    {
      "cell_type": "code",
      "metadata": {
        "id": "tj70Y3FrR5ho",
        "colab_type": "code",
        "colab": {
          "base_uri": "https://localhost:8080/",
          "height": 312
        },
        "outputId": "815d125c-a198-4cd4-c16f-cba08ab1dbbb"
      },
      "source": [
        "\n",
        "show_train_history(train_history, 'accuracy', 'val_accuracy')\n",
        "\n",
        "scores = model.evaluate(x=test_Features,\n",
        "                        y=test_Label)\n",
        "\n",
        "scores[1]\n",
        "\n",
        "Jack = pd.Series([0 ,'Jack', 3, 'male', 23, 1, 0, 5.0000, 'S'])\n",
        "Rose = pd.Series([1, 'Rose', 1, 'female', 20, 1, 0, 100.0000, 'S'])\n",
        "\n",
        "JR_df = pd.DataFrame([list(Jack), list(Rose)], columns=['survived', 'name', 'pclass', 'sex', \n",
        "                                                        'age', 'sibsp', 'parch', 'fare', 'embarked'])\n"
      ],
      "execution_count": 16,
      "outputs": [
        {
          "output_type": "display_data",
          "data": {
            "image/png": "[encoded data removed]",
            "text/plain": [
              "<Figure size 432x288 with 1 Axes>"
            ]
          },
          "metadata": {
            "tags": [],
            "needs_background": "light"
          }
        },
        {
          "output_type": "stream",
          "text": [
            "9/9 [==============================] - 0s 1ms/step - loss: 0.4389 - accuracy: 0.8145\n"
          ],
          "name": "stdout"
        }
      ]
    },
    {
      "cell_type": "code",
      "metadata": {
        "id": "D0GgqteqVPAa",
        "colab_type": "code",
        "colab": {}
      },
      "source": [
        "all_df = pd.concat([all_df, JR_df])\n"
      ],
      "execution_count": 17,
      "outputs": []
    },
    {
      "cell_type": "code",
      "metadata": {
        "id": "6BOfmOyfVQfP",
        "colab_type": "code",
        "colab": {
          "base_uri": "https://localhost:8080/",
          "height": 111
        },
        "outputId": "a8ede91e-bea6-402b-d00d-6ee9e19aed44"
      },
      "source": [
        "all_df[-2:]\n"
      ],
      "execution_count": 18,
      "outputs": [
        {
          "output_type": "execute_result",
          "data": {
            "text/html": [
              "<div>\n",
              "<style scoped>\n",
              "    .dataframe tbody tr th:only-of-type {\n",
              "        vertical-align: middle;\n",
              "    }\n",
              "\n",
              "    .dataframe tbody tr th {\n",
              "        vertical-align: top;\n",
              "    }\n",
              "\n",
              "    .dataframe thead th {\n",
              "        text-align: right;\n",
              "    }\n",
              "</style>\n",
              "<table border=\"1\" class=\"dataframe\">\n",
              "  <thead>\n",
              "    <tr style=\"text-align: right;\">\n",
              "      <th></th>\n",
              "      <th>survived</th>\n",
              "      <th>name</th>\n",
              "      <th>pclass</th>\n",
              "      <th>sex</th>\n",
              "      <th>age</th>\n",
              "      <th>sibsp</th>\n",
              "      <th>parch</th>\n",
              "      <th>fare</th>\n",
              "      <th>embarked</th>\n",
              "    </tr>\n",
              "  </thead>\n",
              "  <tbody>\n",
              "    <tr>\n",
              "      <th>0</th>\n",
              "      <td>0</td>\n",
              "      <td>Jack</td>\n",
              "      <td>3</td>\n",
              "      <td>male</td>\n",
              "      <td>23.0</td>\n",
              "      <td>1</td>\n",
              "      <td>0</td>\n",
              "      <td>5.0</td>\n",
              "      <td>S</td>\n",
              "    </tr>\n",
              "    <tr>\n",
              "      <th>1</th>\n",
              "      <td>1</td>\n",
              "      <td>Rose</td>\n",
              "      <td>1</td>\n",
              "      <td>female</td>\n",
              "      <td>20.0</td>\n",
              "      <td>1</td>\n",
              "      <td>0</td>\n",
              "      <td>100.0</td>\n",
              "      <td>S</td>\n",
              "    </tr>\n",
              "  </tbody>\n",
              "</table>\n",
              "</div>"
            ],
            "text/plain": [
              "   survived  name  pclass     sex   age  sibsp  parch   fare embarked\n",
              "0         0  Jack       3    male  23.0      1      0    5.0        S\n",
              "1         1  Rose       1  female  20.0      1      0  100.0        S"
            ]
          },
          "metadata": {
            "tags": []
          },
          "execution_count": 18
        }
      ]
    },
    {
      "cell_type": "code",
      "metadata": {
        "id": "xgLRLRDfVJ7I",
        "colab_type": "code",
        "colab": {}
      },
      "source": [
        "all_Features, Label = PreprocessData(all_df)\n",
        "\n",
        "all_probability = model.predict(all_Features)"
      ],
      "execution_count": 19,
      "outputs": []
    },
    {
      "cell_type": "code",
      "metadata": {
        "id": "3TZm9m2LVLxe",
        "colab_type": "code",
        "colab": {
          "base_uri": "https://localhost:8080/",
          "height": 187
        },
        "outputId": "06bbaabc-be44-4593-e3ac-1653814715da"
      },
      "source": [
        "all_probability[:10]"
      ],
      "execution_count": 20,
      "outputs": [
        {
          "output_type": "execute_result",
          "data": {
            "text/plain": [
              "array([[0.97284913],\n",
              "       [0.5278278 ],\n",
              "       [0.9720155 ],\n",
              "       [0.3525042 ],\n",
              "       [0.96789885],\n",
              "       [0.25762862],\n",
              "       [0.93970996],\n",
              "       [0.2940402 ],\n",
              "       [0.9396783 ],\n",
              "       [0.29570255]], dtype=float32)"
            ]
          },
          "metadata": {
            "tags": []
          },
          "execution_count": 20
        }
      ]
    },
    {
      "cell_type": "code",
      "metadata": {
        "id": "ZQKfgRirUYRE",
        "colab_type": "code",
        "colab": {}
      },
      "source": [
        "pd = all_df\n"
      ],
      "execution_count": 21,
      "outputs": []
    },
    {
      "cell_type": "code",
      "metadata": {
        "id": "01H7O24vTVAB",
        "colab_type": "code",
        "colab": {
          "base_uri": "https://localhost:8080/",
          "height": 111
        },
        "outputId": "2352393c-04e4-4c4e-92be-85b686c2cb4e"
      },
      "source": [
        "pd[-2:]\n"
      ],
      "execution_count": 23,
      "outputs": [
        {
          "output_type": "execute_result",
          "data": {
            "text/html": [
              "<div>\n",
              "<style scoped>\n",
              "    .dataframe tbody tr th:only-of-type {\n",
              "        vertical-align: middle;\n",
              "    }\n",
              "\n",
              "    .dataframe tbody tr th {\n",
              "        vertical-align: top;\n",
              "    }\n",
              "\n",
              "    .dataframe thead th {\n",
              "        text-align: right;\n",
              "    }\n",
              "</style>\n",
              "<table border=\"1\" class=\"dataframe\">\n",
              "  <thead>\n",
              "    <tr style=\"text-align: right;\">\n",
              "      <th></th>\n",
              "      <th>survived</th>\n",
              "      <th>name</th>\n",
              "      <th>pclass</th>\n",
              "      <th>sex</th>\n",
              "      <th>age</th>\n",
              "      <th>sibsp</th>\n",
              "      <th>parch</th>\n",
              "      <th>fare</th>\n",
              "      <th>embarked</th>\n",
              "    </tr>\n",
              "  </thead>\n",
              "  <tbody>\n",
              "    <tr>\n",
              "      <th>0</th>\n",
              "      <td>0</td>\n",
              "      <td>Jack</td>\n",
              "      <td>3</td>\n",
              "      <td>male</td>\n",
              "      <td>23.0</td>\n",
              "      <td>1</td>\n",
              "      <td>0</td>\n",
              "      <td>5.0</td>\n",
              "      <td>S</td>\n",
              "    </tr>\n",
              "    <tr>\n",
              "      <th>1</th>\n",
              "      <td>1</td>\n",
              "      <td>Rose</td>\n",
              "      <td>1</td>\n",
              "      <td>female</td>\n",
              "      <td>20.0</td>\n",
              "      <td>1</td>\n",
              "      <td>0</td>\n",
              "      <td>100.0</td>\n",
              "      <td>S</td>\n",
              "    </tr>\n",
              "  </tbody>\n",
              "</table>\n",
              "</div>"
            ],
            "text/plain": [
              "   survived  name  pclass     sex   age  sibsp  parch   fare embarked\n",
              "0         0  Jack       3    male  23.0      1      0    5.0        S\n",
              "1         1  Rose       1  female  20.0      1      0  100.0        S"
            ]
          },
          "metadata": {
            "tags": []
          },
          "execution_count": 23
        }
      ]
    }
  ]
}